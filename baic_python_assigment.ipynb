{
 "cells": [
  {
   "cell_type": "markdown",
   "id": "c6e5c970-f1fc-4ad8-9b2d-c7dcbd786f5c",
   "metadata": {},
   "source": [
    "###THEORY QUESTIONS nd ANSWERS ---> ASSIGNMENT"
   ]
  },
  {
   "cell_type": "markdown",
   "id": "e74926df-08f4-490c-a598-9896e0a6248a",
   "metadata": {},
   "source": [
    "# 1 What is Python and why is it popular?\n",
    "answer-> Python is a high level programming language.It is interpreted,object oriented programming language.It is widely used for many purposes like              data analysis,web development,artificial intelligence etc.\n",
    "         Python is so popular because of its rich of libraries.Python have more than 1,30000 libraries.\n",
    "         It is easy to learn,versatile,of large community,open source programming language."
   ]
  },
  {
   "cell_type": "markdown",
   "id": "da8f73ba-66f2-4bfd-a35c-81fc81ffbd5a",
   "metadata": {},
   "source": [
    "# 2 What is interpreter in Python?\n",
    "answer-> An interpreter in python is a program that directly runs python code line by line without having compiling"
   ]
  },
  {
   "cell_type": "markdown",
   "id": "f4acc656-25ba-4b7e-a0eb-9670bac1cc52",
   "metadata": {
    "jp-MarkdownHeadingCollapsed": true
   },
   "source": [
    "# 3 What are predefined keywords in python?\n",
    "answer-> Predefined keywords are the reserved keywords in python that are already have a meaning in python. Keywords cannot be used as a identifiers in           python.\n",
    "         Different keywords are: if,else,elif,break,class,and,not,while,for,do,try,continue,import,or,pass,return etc."
   ]
  },
  {
   "cell_type": "markdown",
   "id": "3a78907e-5716-4707-bdc3-998d053847f6",
   "metadata": {},
   "source": [
    "# 4 Can keywords as a variable names?\n",
    "answer-> No keywords cannot be used as a variable names. A variable name can be defined using character ,mix of character and no,mix of                           character,underscore,number. Variable cannot be start using numbers."
   ]
  },
  {
   "cell_type": "markdown",
   "id": "733051ae-1c3a-4448-bb1a-865b5533e789",
   "metadata": {},
   "source": [
    "# 5 What is mutability in python?\n",
    "answer-> Mutability in python means it can be changed after declaring it like list,dictionary.It can changed without creating a new object."
   ]
  },
  {
   "cell_type": "markdown",
   "id": "287b59ca-09ab-48ec-b480-4ab6ab6f14c3",
   "metadata": {},
   "source": [
    "# 6  Why are lists mutable, but tuples are immutable?\n",
    "answer-> Tuples are immutable to provide a stable, consistent, and memory-efficient collection of elements that cannot be changed. This immutability is useful in cases where constant, fixed data is required, such as keys in dictionaries or elements in sets.\n",
    "Lists are mutable to allow flexibility, where data may need to be modified, added, or removed, providing more versatility for general-purpose data handling.\n",
    "That is why tuples are immutable and lists are mutable"
   ]
  },
  {
   "cell_type": "markdown",
   "id": "6ebc3076-3d28-4387-bd61-29694733666e",
   "metadata": {},
   "source": [
    "# 7  What is the difference between “==” and “is” operators in Python?\n",
    "answer-> \"==\" means comparison operator in python . It compares the value of two objects and returns bool value that is either True or False.\n",
    "         \"is\" is an identity operator. It Compares the memory addresses (identity) of two objects that is present in the memory address or not."
   ]
  },
  {
   "cell_type": "markdown",
   "id": "96c0106b-d580-4fae-bec1-5ec2d3091864",
   "metadata": {},
   "source": [
    "# 8  What are logical operators in Python?\n",
    "answer-> 'AND' , 'OR', 'NOT' are the logical operators in python. In 'AND' , it returns 'True' if both the conditions are true ,if any condition is False then it returns False.\n",
    "           'OR' operator returns True if any of the condition is True. If both the condition is False then it return False.\n",
    "           'Not' is a unary operator, it inverts the value if the condition is true it returns False"
   ]
  },
  {
   "cell_type": "markdown",
   "id": "eb5b809a-7ce5-47d7-a163-044c8cf1efac",
   "metadata": {},
   "source": [
    "# 9  What is type casting in Python?\n",
    "answer->conversion of one data type into another data type is known as type casting in python\n",
    "        example:- a= '5'\n",
    "                  b=10\n",
    "                  int(a)+b ---->here string datatype get converted into integer datatype"
   ]
  },
  {
   "cell_type": "markdown",
   "id": "ba481c3f-5683-4e1c-8e9b-f145e3cacf5f",
   "metadata": {},
   "source": [
    "# 10  What is the difference between implicit and explicit type casting?\n",
    "answer->Implicit type casting done by the python automatically.\n",
    "         e.g. a=5\n",
    "               b=4.5\n",
    "               print(a+b) \n",
    "               output will be--> 9.5 (Implicit casting of 'a' (int) to 'float' during addition)\n"
   ]
  },
  {
   "cell_type": "markdown",
   "id": "2c03a01d-7b9d-45eb-b367-4bd72ca1890f",
   "metadata": {},
   "source": [
    "# 11  What is the purpose of conditional statements in Python?\n",
    "answer-> Conditional statements in Python are used to make decisions in a program by executing certain blocks of code based on whether a specified                condition (or set of conditions) is True or False. These statements allow your program to respond differently depending on various conditions,           enabling dynamic behavior. The main purpose is to control the flow of the program, directing it to take different actions based on specific              criteria.\n",
    "         There are various conditional statements.These are :\n",
    "         (i) if\n",
    "         (ii)else\n",
    "         (iii)elif\n",
    "         (iv)nested if"
   ]
  },
  {
   "cell_type": "markdown",
   "id": "5d72e65f-8256-41dd-b0cd-11f0291e1b74",
   "metadata": {},
   "source": [
    "# 12  How does the elif statement work?\n",
    "answer-> If we have multiple condition statements then we can use elif statement. "
   ]
  },
  {
   "cell_type": "markdown",
   "id": "11cdd12b-ba54-489c-aea8-5ac013d66db2",
   "metadata": {},
   "source": [
    "# 13 What is the difference between for and while loops?\n",
    "answer-> 'for' loop uses when the iteration is known or in the range or in sequence. 'while' loop uses when iterations are not known."
   ]
  },
  {
   "cell_type": "markdown",
   "id": "4878c94f-75f2-47b3-bd61-cd4309f7d3b5",
   "metadata": {},
   "source": [
    "# 14 Describe a scenario where a while loop is more suitable than a for loop.\n",
    "answer-> A while loop is more suitable than a for loop in scenarios where you don't know the exact number of iterations in advance, and you want the loop to continue until a specific condition is met. This is especially useful when the condition depends on dynamic factors that may change during execution.\n",
    "    A for loop would be better suited for situations where you have a defined sequence or a fixed number of iterations to process, like iterating through a list of known items. In this scenario, using a for loop would be inefficient or not possible because the number of attempts is unknown, and the loop would either run a fixed number of times (even if the password is valid earlier) or you would have to predefine the number of retries."
   ]
  },
  {
   "cell_type": "markdown",
   "id": "9680c437-dbf4-455f-a098-37462b58623d",
   "metadata": {},
   "source": []
  },
  {
   "cell_type": "markdown",
   "id": "97995115-1e32-432e-a78a-5ebb9d210b34",
   "metadata": {},
   "source": []
  },
  {
   "cell_type": "markdown",
   "id": "fa4ba1c8-0b6b-41c2-8515-b1ecf0388179",
   "metadata": {},
   "source": [
    "###PRACTICAL QUESTIONS nd CODE ----> ASSIGNMENT"
   ]
  },
  {
   "cell_type": "code",
   "execution_count": 1,
   "id": "cbc23781-b02e-4d39-b411-32ec36d2ad1d",
   "metadata": {},
   "outputs": [
    {
     "name": "stdout",
     "output_type": "stream",
     "text": [
      "Hello World\n"
     ]
    }
   ],
   "source": [
    "# 1 Write a Python program to print \"Hello, World!\n",
    "\n",
    "\n",
    "print(\"Hello World\")"
   ]
  },
  {
   "cell_type": "code",
   "execution_count": 3,
   "id": "3e7580b6-0af5-46cf-bb34-a5215437ce1f",
   "metadata": {},
   "outputs": [
    {
     "name": "stdout",
     "output_type": "stream",
     "text": [
      "My name is  Deepak Kushwaha  and I am  22\n"
     ]
    }
   ],
   "source": [
    "#2 Write a Python program that displays your name and age.\n",
    "\n",
    "\n",
    "name = 'Deepak Kushwaha'\n",
    "age = 22\n",
    "print(\"My name is \",name,\" and I am \",age)"
   ]
  },
  {
   "cell_type": "code",
   "execution_count": 5,
   "id": "1caa52c5-22f6-4a78-941d-4a9b7428911d",
   "metadata": {},
   "outputs": [
    {
     "name": "stdout",
     "output_type": "stream",
     "text": [
      "\n",
      "Here is a list of the Python keywords.  Enter any keyword to get more help.\n",
      "\n",
      "False               class               from                or\n",
      "None                continue            global              pass\n",
      "True                def                 if                  raise\n",
      "and                 del                 import              return\n",
      "as                  elif                in                  try\n",
      "assert              else                is                  while\n",
      "async               except              lambda              with\n",
      "await               finally             nonlocal            yield\n",
      "break               for                 not                 \n",
      "\n"
     ]
    }
   ],
   "source": [
    "#3 Write code to print all the pre-defined keywords in Python using the keyword library\n",
    "\n",
    "\n",
    "help(\"keywords\")"
   ]
  },
  {
   "cell_type": "code",
   "execution_count": 29,
   "id": "9d478d15-1f23-4852-8ef2-19f9a7bd761a",
   "metadata": {},
   "outputs": [
    {
     "name": "stdin",
     "output_type": "stream",
     "text": [
      "Enter a word:  if\n"
     ]
    },
    {
     "name": "stdout",
     "output_type": "stream",
     "text": [
      "It is a Python keyword.\n"
     ]
    }
   ],
   "source": [
    "#4 Write a program that checks if a given word is a Python keyword\n",
    "\n",
    "import keyword\n",
    "\n",
    "word = input(\"Enter a word: \")\n",
    "\n",
    "if keyword.iskeyword(word):\n",
    "    print(\"It is a Python keyword.\")\n",
    "else:\n",
    "    print(\"It is NOT a Python keyword.\")\n",
    "\n"
   ]
  },
  {
   "cell_type": "code",
   "execution_count": 87,
   "id": "fb3c45a4-6c63-473f-95ef-4bbf15b7ed31",
   "metadata": {},
   "outputs": [
    {
     "name": "stdout",
     "output_type": "stream",
     "text": [
      "Before Modification\n",
      "List: [1, 2, 4, 5]\n",
      "Tuple: (11, 12, 14, 15)\n",
      "After modification\n",
      "List after modification: [1, 2, 3, 5]\n"
     ]
    },
    {
     "ename": "TypeError",
     "evalue": "'tuple' object does not support item assignment",
     "output_type": "error",
     "traceback": [
      "\u001b[1;31m---------------------------------------------------------------------------\u001b[0m",
      "\u001b[1;31mTypeError\u001b[0m                                 Traceback (most recent call last)",
      "Cell \u001b[1;32mIn[87], line 14\u001b[0m\n\u001b[0;32m     11\u001b[0m my_list[\u001b[38;5;241m2\u001b[39m]\u001b[38;5;241m=\u001b[39m\u001b[38;5;241m3\u001b[39m \u001b[38;5;66;03m#assigning new value at index 3\u001b[39;00m\n\u001b[0;32m     12\u001b[0m \u001b[38;5;28mprint\u001b[39m(\u001b[38;5;124m\"\u001b[39m\u001b[38;5;124mList after modification:\u001b[39m\u001b[38;5;124m\"\u001b[39m,my_list)\n\u001b[1;32m---> 14\u001b[0m my_tuple[\u001b[38;5;241m2\u001b[39m]\u001b[38;5;241m=\u001b[39m\u001b[38;5;241m13\u001b[39m\n\u001b[0;32m     15\u001b[0m \u001b[38;5;28mprint\u001b[39m(\u001b[38;5;124m\"\u001b[39m\u001b[38;5;124mList after modification:\u001b[39m\u001b[38;5;124m\"\u001b[39m,my_tuple)\n",
      "\u001b[1;31mTypeError\u001b[0m: 'tuple' object does not support item assignment"
     ]
    }
   ],
   "source": [
    "#5 Create a list and tuple in Python, and demonstrate how attempting to change an element works differently \n",
    "# for each\n",
    "\n",
    "my_list = [1,2,4,5]\n",
    "my_tuple = (11,12,14,15)\n",
    "print(\"Before Modification\")\n",
    "print(\"List:\",my_list)\n",
    "print(\"Tuple:\",my_tuple)\n",
    "\n",
    "print(\"After modification\")\n",
    "my_list[2]=3 #assigning new value at index 3\n",
    "print(\"List after modification:\",my_list)\n",
    "\n",
    "my_tuple[2]=13\n",
    "# print(\"List after modification:\",my_tuple) #it doesn't support item assignment "
   ]
  },
  {
   "cell_type": "code",
   "execution_count": null,
   "id": "f02f204e-17f2-4890-8b20-b3a6ef87a147",
   "metadata": {},
   "outputs": [],
   "source": [
    "#6 Write a function to demonstrate the behavior of mutable and immutable arguments"
   ]
  },
  {
   "cell_type": "code",
   "execution_count": null,
   "id": "efbb9201-8d8e-479b-8f47-98fe3d874674",
   "metadata": {},
   "outputs": [],
   "source": [
    "#7 Write a program to demonstrate the behavior of mutable and immutable arguments\n",
    "\n",
    "mutable_list = [1, 2, 3]   # List is mutable\n",
    "immutable_num = 5          # Integer is immutable\n",
    "\n",
    "print(\"Before modification:\")\n",
    "print(\"Mutable list:\", mutable_list)\n",
    "print(\"Immutable number:\", immutable_num)\n",
    "\n",
    "mutable_list.append(4)\n",
    "print(\"Modified mutable list (after append):\", mutable_list)\n",
    "\n",
    "immutable_num += 10\n",
    "print(\"Modified immutable number (after addition):\", immutable_num)\n",
    "\n",
    "# After modification\n",
    "print(\"\\nAfter modification:\")\n",
    "print(\"Mutable list outside the block:\", mutable_list)\n",
    "print(\"Immutable number outside the block:\", immutable_num)\n"
   ]
  },
  {
   "cell_type": "code",
   "execution_count": 79,
   "id": "42128976-f55c-4f75-922d-9af9d35d51d4",
   "metadata": {},
   "outputs": [
    {
     "name": "stdout",
     "output_type": "stream",
     "text": [
      "This is demonstration of AND operator\n",
      "This is demonstration of OR operator\n",
      "This is demonstration of NOT operator\n"
     ]
    }
   ],
   "source": [
    "#8 Write a program to demonstrate the use of logical operators\n",
    "\n",
    "a = 5\n",
    "b = 15\n",
    "c = 10\n",
    "#AND Operator\n",
    "if(a<b and c<b):\n",
    "    print(\"This is demonstration of AND operator\")\n",
    "else:\n",
    "    print(\"This doesn't follow logic of AND\")\n",
    "if(a>b or c<b):\n",
    "    print(\"This is demonstration of OR operator\")\n",
    "else:\n",
    "    print(\"This doesn't follow logic of OR\")\n",
    "    \n",
    "if(a!=b):\n",
    "    print(\"This is demonstration of NOT operator\")\n",
    "else:\n",
    "    print(\"This doesn't follow logic of NOT\")"
   ]
  },
  {
   "cell_type": "code",
   "execution_count": 75,
   "id": "00a443b7-93e3-415f-92e3-a1b0a4ac083f",
   "metadata": {},
   "outputs": [
    {
     "name": "stdin",
     "output_type": "stream",
     "text": [
      "Enter input: 1\n"
     ]
    },
    {
     "name": "stdout",
     "output_type": "stream",
     "text": [
      "<class 'str'>\n",
      "<class 'int'>\n",
      "<class 'float'>\n",
      "<class 'bool'>\n"
     ]
    }
   ],
   "source": [
    "#9 Write a Python program to convert user input from string to integer, float, and boolean types.\n",
    "user = input(\"Enter input:\")\n",
    "print(type(user))\n",
    "print(type(int(user)))\n",
    "print(type(float(user)))\n",
    "print(type(bool(user)))"
   ]
  },
  {
   "cell_type": "code",
   "execution_count": 49,
   "id": "89f8930f-d1fc-4b2e-afb9-c19b3b600515",
   "metadata": {},
   "outputs": [
    {
     "name": "stdout",
     "output_type": "stream",
     "text": [
      "[1, 3.3, '12', 1]\n"
     ]
    }
   ],
   "source": [
    "#10 Write code to demonstrate type casting with list elements\n",
    "\n",
    "list1 = [1,3.3,'12',1]\n",
    "print(list1)"
   ]
  },
  {
   "cell_type": "code",
   "execution_count": 27,
   "id": "d44b80b8-ab93-437d-9511-678b516fd8fc",
   "metadata": {},
   "outputs": [
    {
     "name": "stdin",
     "output_type": "stream",
     "text": [
      "Enter input -9.2\n"
     ]
    },
    {
     "name": "stdout",
     "output_type": "stream",
     "text": [
      "Number is negative.\n"
     ]
    }
   ],
   "source": [
    "#11 Write a program that checks if a number is positive, negative, or zero\n",
    "user_input = float(input(\"Enter input\"))\n",
    "if(user_input >0):\n",
    "    print(\"Number is positive.\")\n",
    "elif(user_input==0):\n",
    "    print(\"Number is zero\")\n",
    "else:\n",
    "    print(\"Number is negative.\")"
   ]
  },
  {
   "cell_type": "code",
   "execution_count": 31,
   "id": "8d2697c6-175f-493f-8c59-46fccca62213",
   "metadata": {},
   "outputs": [
    {
     "name": "stdout",
     "output_type": "stream",
     "text": [
      "1 2 3 4 5 6 7 8 9 10 "
     ]
    }
   ],
   "source": [
    "#12  Write a for loop to print numbers from 1 to 10.\n",
    "for i in range(1,11):\n",
    "    print(i,end=\" \")"
   ]
  },
  {
   "cell_type": "code",
   "execution_count": 47,
   "id": "75e60291-93db-4d2e-8300-19ce1b9eb67d",
   "metadata": {},
   "outputs": [
    {
     "name": "stdout",
     "output_type": "stream",
     "text": [
      "600\n"
     ]
    }
   ],
   "source": [
    "#13 Write a Python program to find the sum of all even numbers between 1 and 50\n",
    "\n",
    "sum = 0\n",
    "for i in range(0,50,2):\n",
    "    sum=sum+i\n",
    "print(sum)"
   ]
  },
  {
   "cell_type": "code",
   "execution_count": 59,
   "id": "fbe6e433-3abd-487e-b58e-2c98e54baac7",
   "metadata": {},
   "outputs": [
    {
     "name": "stdin",
     "output_type": "stream",
     "text": [
      "Enter input deepak\n"
     ]
    },
    {
     "name": "stdout",
     "output_type": "stream",
     "text": [
      "Original String: deepak\n",
      "Reverse String: kapeed\n"
     ]
    }
   ],
   "source": [
    "#14 Write a program to reverse a string using a while loop\n",
    "\n",
    "input_string = input(\"Enter input\")\n",
    "reverse_string=\"\"\n",
    "index = len(input_string) -1\n",
    "\n",
    "while index>=0:\n",
    "    reverse_string=reverse_string+input_string[index]\n",
    "    index=index-1\n",
    "\n",
    "print(\"Original String:\",input_string)\n",
    "print(\"Reverse String:\",reverse_string)"
   ]
  },
  {
   "cell_type": "code",
   "execution_count": 65,
   "id": "c4dd90b6-2a24-42d9-89ef-9796d9ac51d2",
   "metadata": {},
   "outputs": [
    {
     "name": "stdin",
     "output_type": "stream",
     "text": [
      "Enter the number to find Factorial: 6\n"
     ]
    },
    {
     "name": "stdout",
     "output_type": "stream",
     "text": [
      "Factorial of 6 is 720\n"
     ]
    }
   ],
   "source": [
    "#15 Write a Python program to calculate the factorial of a number provided by the user using a while loop \n",
    "\n",
    "num=int(input(\"Enter the number to find Factorial:\"))\n",
    "fact = 1\n",
    "counter=1\n",
    "\n",
    "if(num<0):\n",
    "    print(\"Factorial can't be find,number is negative.\")\n",
    "elif(num==0):\n",
    "    print(\"Factorial of 0 is 1\")\n",
    "else:\n",
    "    while counter<=num:\n",
    "        fact=fact*counter\n",
    "        counter=counter+1\n",
    "\n",
    "print(f\"Factorial of {num} is {fact}\")"
   ]
  },
  {
   "cell_type": "code",
   "execution_count": null,
   "id": "ff8b707e-dbfe-4706-9c5b-93a5b61016da",
   "metadata": {},
   "outputs": [],
   "source": []
  }
 ],
 "metadata": {
  "kernelspec": {
   "display_name": "Python [conda env:base] *",
   "language": "python",
   "name": "conda-base-py"
  },
  "language_info": {
   "codemirror_mode": {
    "name": "ipython",
    "version": 3
   },
   "file_extension": ".py",
   "mimetype": "text/x-python",
   "name": "python",
   "nbconvert_exporter": "python",
   "pygments_lexer": "ipython3",
   "version": "3.12.7"
  }
 },
 "nbformat": 4,
 "nbformat_minor": 5
}
